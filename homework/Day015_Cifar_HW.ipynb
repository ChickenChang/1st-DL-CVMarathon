{
 "cells": [
  {
   "cell_type": "markdown",
   "metadata": {},
   "source": [
    "## 『本次練習內容』\n",
    "#### 運用這幾天所學觀念搭建一個CNN分類器"
   ]
  },
  {
   "cell_type": "markdown",
   "metadata": {},
   "source": [
    "## 『本次練習目的』\n",
    "  #### 熟悉CNN分類器搭建步驟與原理\n",
    "  #### 學員們可以嘗試不同搭法，如使用不同的Maxpooling層，用GlobalAveragePooling取代Flatten等等"
   ]
  },
  {
   "cell_type": "code",
   "execution_count": 1,
   "metadata": {},
   "outputs": [
    {
     "name": "stderr",
     "output_type": "stream",
     "text": [
      "Using TensorFlow backend.\n"
     ]
    }
   ],
   "source": [
    "from keras.models import Sequential\n",
    "from keras.layers import Conv2D\n",
    "from keras.layers import MaxPooling2D\n",
    "from keras.layers import Flatten\n",
    "from keras.layers import Dense\n",
    "from keras.layers import Dropout\n",
    "from keras.layers import BatchNormalization\n",
    "from keras.datasets import cifar10\n",
    "import numpy as np\n",
    "import tensorflow as tf\n",
    "from sklearn.preprocessing import OneHotEncoder\n",
    "from keras import regularizers\n"
   ]
  },
  {
   "cell_type": "code",
   "execution_count": 2,
   "metadata": {},
   "outputs": [
    {
     "name": "stdout",
     "output_type": "stream",
     "text": [
      "(50000, 32, 32, 3)\n"
     ]
    }
   ],
   "source": [
    "(x_train, y_train), (x_test, y_test) = cifar10.load_data()\n",
    "\n",
    "print(x_train.shape) #(50000, 32, 32, 3)\n",
    "\n",
    "## Normalize Data\n",
    "def normalize(X_train,X_test):\n",
    "        mean = np.mean(X_train,axis=(0,1,2,3))\n",
    "        std = np.std(X_train, axis=(0, 1, 2, 3))\n",
    "        X_train = (X_train-mean)/(std+1e-7)\n",
    "        X_test = (X_test-mean)/(std+1e-7) \n",
    "        return X_train, X_test,mean,std\n",
    "    \n",
    "    \n",
    "## Normalize Training and Testset    \n",
    "x_train, x_test,mean_train,std_train = normalize(x_train, x_test) "
   ]
  },
  {
   "cell_type": "code",
   "execution_count": 3,
   "metadata": {},
   "outputs": [],
   "source": [
    "## OneHot Label 由(None, 1)-(None, 10)\n",
    "## ex. label=2,變成[0,0,1,0,0,0,0,0,0,0]\n",
    "one_hot=OneHotEncoder()\n",
    "y_train=one_hot.fit_transform(y_train).toarray()\n",
    "y_test=one_hot.transform(y_test).toarray()"
   ]
  },
  {
   "cell_type": "code",
   "execution_count": 4,
   "metadata": {},
   "outputs": [
    {
     "name": "stdout",
     "output_type": "stream",
     "text": [
      "Epoch 1/100\n",
      "50000/50000 [==============================] - 10s - loss: 1.2360 - acc: 0.5643    \n",
      "Epoch 2/100\n",
      "50000/50000 [==============================] - 6s - loss: 0.8841 - acc: 0.6899     \n",
      "Epoch 3/100\n",
      "50000/50000 [==============================] - 6s - loss: 0.7404 - acc: 0.7432     \n",
      "Epoch 4/100\n",
      "50000/50000 [==============================] - 6s - loss: 0.6331 - acc: 0.7802     \n",
      "Epoch 5/100\n",
      "50000/50000 [==============================] - 6s - loss: 0.5395 - acc: 0.8142     \n",
      "Epoch 6/100\n",
      "50000/50000 [==============================] - 6s - loss: 0.4591 - acc: 0.8417     \n",
      "Epoch 7/100\n",
      "50000/50000 [==============================] - 6s - loss: 0.3847 - acc: 0.8684     \n",
      "Epoch 8/100\n",
      "50000/50000 [==============================] - 6s - loss: 0.3118 - acc: 0.8946     \n",
      "Epoch 9/100\n",
      "50000/50000 [==============================] - 6s - loss: 0.2644 - acc: 0.9104     \n",
      "Epoch 10/100\n",
      "50000/50000 [==============================] - 6s - loss: 0.2089 - acc: 0.9312     \n",
      "Epoch 11/100\n",
      "50000/50000 [==============================] - 6s - loss: 0.1760 - acc: 0.9414     \n",
      "Epoch 12/100\n",
      "50000/50000 [==============================] - 6s - loss: 0.1464 - acc: 0.9532     \n",
      "Epoch 13/100\n",
      "50000/50000 [==============================] - 6s - loss: 0.1308 - acc: 0.9571     \n",
      "Epoch 14/100\n",
      "50000/50000 [==============================] - 6s - loss: 0.1127 - acc: 0.9634     \n",
      "Epoch 15/100\n",
      "50000/50000 [==============================] - 6s - loss: 0.1051 - acc: 0.9652     \n",
      "Epoch 16/100\n",
      "50000/50000 [==============================] - 6s - loss: 0.0960 - acc: 0.9687     \n",
      "Epoch 17/100\n",
      "50000/50000 [==============================] - 6s - loss: 0.0832 - acc: 0.9726     \n",
      "Epoch 18/100\n",
      "50000/50000 [==============================] - 6s - loss: 0.0800 - acc: 0.9738     \n",
      "Epoch 19/100\n",
      "50000/50000 [==============================] - 6s - loss: 0.0793 - acc: 0.9725     \n",
      "Epoch 20/100\n",
      "50000/50000 [==============================] - 6s - loss: 0.0712 - acc: 0.9764     \n",
      "Epoch 21/100\n",
      "50000/50000 [==============================] - 6s - loss: 0.0650 - acc: 0.9787     \n",
      "Epoch 22/100\n",
      "50000/50000 [==============================] - 6s - loss: 0.0631 - acc: 0.9799     \n",
      "Epoch 23/100\n",
      "50000/50000 [==============================] - 6s - loss: 0.0623 - acc: 0.9794     \n",
      "Epoch 24/100\n",
      "50000/50000 [==============================] - 6s - loss: 0.0558 - acc: 0.9811     \n",
      "Epoch 25/100\n",
      "50000/50000 [==============================] - 6s - loss: 0.0583 - acc: 0.9805     \n",
      "Epoch 26/100\n",
      "50000/50000 [==============================] - 6s - loss: 0.0587 - acc: 0.9800     \n",
      "Epoch 27/100\n",
      "50000/50000 [==============================] - 6s - loss: 0.0543 - acc: 0.9820     \n",
      "Epoch 28/100\n",
      "50000/50000 [==============================] - 6s - loss: 0.0463 - acc: 0.9843     \n",
      "Epoch 29/100\n",
      "50000/50000 [==============================] - 6s - loss: 0.0466 - acc: 0.9842     \n",
      "Epoch 30/100\n",
      "50000/50000 [==============================] - 6s - loss: 0.0465 - acc: 0.9846     \n",
      "Epoch 31/100\n",
      "50000/50000 [==============================] - 6s - loss: 0.0469 - acc: 0.9844     \n",
      "Epoch 32/100\n",
      "50000/50000 [==============================] - 6s - loss: 0.0468 - acc: 0.9838     \n",
      "Epoch 33/100\n",
      "50000/50000 [==============================] - 6s - loss: 0.0446 - acc: 0.9849     \n",
      "Epoch 34/100\n",
      "50000/50000 [==============================] - 6s - loss: 0.0426 - acc: 0.9848     \n",
      "Epoch 35/100\n",
      "50000/50000 [==============================] - 6s - loss: 0.0384 - acc: 0.9869     \n",
      "Epoch 36/100\n",
      "50000/50000 [==============================] - 6s - loss: 0.0352 - acc: 0.9874     \n",
      "Epoch 37/100\n",
      "50000/50000 [==============================] - 7s - loss: 0.0433 - acc: 0.9855     \n",
      "Epoch 38/100\n",
      "50000/50000 [==============================] - 7s - loss: 0.0358 - acc: 0.9880     \n",
      "Epoch 39/100\n",
      "50000/50000 [==============================] - 7s - loss: 0.0440 - acc: 0.9850     \n",
      "Epoch 40/100\n",
      "50000/50000 [==============================] - 7s - loss: 0.0411 - acc: 0.9855     \n",
      "Epoch 41/100\n",
      "50000/50000 [==============================] - 7s - loss: 0.0366 - acc: 0.9874     \n",
      "Epoch 42/100\n",
      "50000/50000 [==============================] - 7s - loss: 0.0278 - acc: 0.9910     \n",
      "Epoch 43/100\n",
      "50000/50000 [==============================] - 7s - loss: 0.0315 - acc: 0.9892     \n",
      "Epoch 44/100\n",
      "50000/50000 [==============================] - 7s - loss: 0.0312 - acc: 0.9899     \n",
      "Epoch 45/100\n",
      "50000/50000 [==============================] - 6s - loss: 0.0353 - acc: 0.9882     \n",
      "Epoch 46/100\n",
      "50000/50000 [==============================] - 6s - loss: 0.0339 - acc: 0.9886     \n",
      "Epoch 47/100\n",
      "50000/50000 [==============================] - 6s - loss: 0.0257 - acc: 0.9916     \n",
      "Epoch 48/100\n",
      "50000/50000 [==============================] - 6s - loss: 0.0296 - acc: 0.9901     \n",
      "Epoch 49/100\n",
      "50000/50000 [==============================] - 6s - loss: 0.0346 - acc: 0.9882     \n",
      "Epoch 50/100\n",
      "50000/50000 [==============================] - 7s - loss: 0.0304 - acc: 0.9897     \n",
      "Epoch 51/100\n",
      "50000/50000 [==============================] - 6s - loss: 0.0331 - acc: 0.9889     \n",
      "Epoch 52/100\n",
      "50000/50000 [==============================] - 6s - loss: 0.0301 - acc: 0.9897     \n",
      "Epoch 53/100\n",
      "50000/50000 [==============================] - 6s - loss: 0.0290 - acc: 0.9900     \n",
      "Epoch 54/100\n",
      "50000/50000 [==============================] - 7s - loss: 0.0266 - acc: 0.9917     \n",
      "Epoch 55/100\n",
      "50000/50000 [==============================] - 6s - loss: 0.0232 - acc: 0.9923     \n",
      "Epoch 56/100\n",
      "50000/50000 [==============================] - 6s - loss: 0.0306 - acc: 0.9892     \n",
      "Epoch 57/100\n",
      "50000/50000 [==============================] - ETA: 0s - loss: 0.0282 - acc: 0.990 - 6s - loss: 0.0282 - acc: 0.9901     \n",
      "Epoch 58/100\n",
      "50000/50000 [==============================] - 6s - loss: 0.0235 - acc: 0.9921     \n",
      "Epoch 59/100\n",
      "50000/50000 [==============================] - 6s - loss: 0.0275 - acc: 0.9909     \n",
      "Epoch 60/100\n",
      "50000/50000 [==============================] - 6s - loss: 0.0217 - acc: 0.9926     \n",
      "Epoch 61/100\n",
      "50000/50000 [==============================] - 6s - loss: 0.0230 - acc: 0.9927     \n",
      "Epoch 62/100\n",
      "50000/50000 [==============================] - 6s - loss: 0.0270 - acc: 0.9912     \n",
      "Epoch 63/100\n",
      "50000/50000 [==============================] - 6s - loss: 0.0221 - acc: 0.9927     \n",
      "Epoch 64/100\n",
      "50000/50000 [==============================] - 6s - loss: 0.0213 - acc: 0.9926     \n",
      "Epoch 65/100\n",
      "50000/50000 [==============================] - 7s - loss: 0.0231 - acc: 0.9924     \n",
      "Epoch 66/100\n",
      "50000/50000 [==============================] - 7s - loss: 0.0258 - acc: 0.9909     \n",
      "Epoch 67/100\n",
      "50000/50000 [==============================] - 7s - loss: 0.0241 - acc: 0.9914     \n",
      "Epoch 68/100\n",
      "50000/50000 [==============================] - 6s - loss: 0.0195 - acc: 0.9935     \n",
      "Epoch 69/100\n",
      "50000/50000 [==============================] - 6s - loss: 0.0207 - acc: 0.9931     \n",
      "Epoch 70/100\n",
      "50000/50000 [==============================] - 6s - loss: 0.0235 - acc: 0.9919     \n",
      "Epoch 71/100\n",
      "50000/50000 [==============================] - 6s - loss: 0.0244 - acc: 0.9917     \n",
      "Epoch 72/100\n",
      "50000/50000 [==============================] - 6s - loss: 0.0242 - acc: 0.9921     \n",
      "Epoch 73/100\n",
      "50000/50000 [==============================] - 6s - loss: 0.0201 - acc: 0.9933     \n",
      "Epoch 74/100\n",
      "50000/50000 [==============================] - 6s - loss: 0.0173 - acc: 0.9943     \n",
      "Epoch 75/100\n",
      "50000/50000 [==============================] - 6s - loss: 0.0213 - acc: 0.9929     \n",
      "Epoch 76/100\n",
      "50000/50000 [==============================] - 6s - loss: 0.0215 - acc: 0.9928     \n",
      "Epoch 77/100\n",
      "50000/50000 [==============================] - 6s - loss: 0.0250 - acc: 0.9914     \n",
      "Epoch 78/100\n",
      "50000/50000 [==============================] - 6s - loss: 0.0199 - acc: 0.9931     \n",
      "Epoch 79/100\n",
      "50000/50000 [==============================] - 6s - loss: 0.0162 - acc: 0.9944     \n",
      "Epoch 80/100\n",
      "50000/50000 [==============================] - 6s - loss: 0.0196 - acc: 0.9935     \n",
      "Epoch 81/100\n",
      "50000/50000 [==============================] - 6s - loss: 0.0174 - acc: 0.9943     \n",
      "Epoch 82/100\n",
      "50000/50000 [==============================] - 6s - loss: 0.0172 - acc: 0.9942     \n",
      "Epoch 83/100\n",
      "50000/50000 [==============================] - 7s - loss: 0.0175 - acc: 0.9940     \n",
      "Epoch 84/100\n",
      "50000/50000 [==============================] - 6s - loss: 0.0168 - acc: 0.9943     \n",
      "Epoch 85/100\n"
     ]
    },
    {
     "name": "stdout",
     "output_type": "stream",
     "text": [
      "50000/50000 [==============================] - 6s - loss: 0.0181 - acc: 0.9937     \n",
      "Epoch 86/100\n",
      "50000/50000 [==============================] - 6s - loss: 0.0207 - acc: 0.9928     \n",
      "Epoch 87/100\n",
      "50000/50000 [==============================] - 6s - loss: 0.0183 - acc: 0.9937     \n",
      "Epoch 88/100\n",
      "50000/50000 [==============================] - 6s - loss: 0.0172 - acc: 0.9940     \n",
      "Epoch 89/100\n",
      "50000/50000 [==============================] - 6s - loss: 0.0164 - acc: 0.9941     \n",
      "Epoch 90/100\n",
      "50000/50000 [==============================] - 6s - loss: 0.0163 - acc: 0.9942     \n",
      "Epoch 91/100\n",
      "50000/50000 [==============================] - 6s - loss: 0.0154 - acc: 0.9952     \n",
      "Epoch 92/100\n",
      "50000/50000 [==============================] - 6s - loss: 0.0184 - acc: 0.9937     \n",
      "Epoch 93/100\n",
      "50000/50000 [==============================] - 6s - loss: 0.0229 - acc: 0.9924     \n",
      "Epoch 94/100\n",
      "50000/50000 [==============================] - 6s - loss: 0.0181 - acc: 0.9939     \n",
      "Epoch 95/100\n",
      "50000/50000 [==============================] - 6s - loss: 0.0148 - acc: 0.9954     \n",
      "Epoch 96/100\n",
      "50000/50000 [==============================] - 6s - loss: 0.0158 - acc: 0.9945     \n",
      "Epoch 97/100\n",
      "50000/50000 [==============================] - 6s - loss: 0.0155 - acc: 0.9945     \n",
      "Epoch 98/100\n",
      "50000/50000 [==============================] - 6s - loss: 0.0141 - acc: 0.9951     \n",
      "Epoch 99/100\n",
      "50000/50000 [==============================] - 6s - loss: 0.0145 - acc: 0.9953     \n",
      "Epoch 100/100\n",
      "50000/50000 [==============================] - 6s - loss: 0.0161 - acc: 0.9946     \n"
     ]
    },
    {
     "data": {
      "text/plain": [
       "<keras.callbacks.History at 0x7f4a64fcbb70>"
      ]
     },
     "execution_count": 4,
     "metadata": {},
     "output_type": "execute_result"
    }
   ],
   "source": [
    "classifier=Sequential()\n",
    "\n",
    "#卷積組合\n",
    "classifier.add(Conv2D(32, kernel_size=(3, 3), padding='same', input_shape=(32,32,3), activation='relu'))#32,3,3,input_shape=(32,32,3),activation='relu''\n",
    "classifier.add(BatchNormalization())\n",
    "\n",
    "#自己決定MaxPooling2D放在哪裡\n",
    "classifier.add(MaxPooling2D(pool_size=(2,2)))\n",
    "\n",
    "#卷積組合\n",
    "classifier.add(Conv2D(32, kernel_size=(3, 3), padding='same', activation='relu'))\n",
    "classifier.add(BatchNormalization())\n",
    "classifier.add(MaxPooling2D(pool_size=(2,2)))\n",
    "\n",
    "#flatten\n",
    "classifier.add(Flatten())\n",
    "\n",
    "#FC\n",
    "classifier.add(Dense(100,activation='relu'))##regularizers\n",
    "classifier.add(BatchNormalization()) ##BatchNormalization\n",
    "#output_dim=100,activation=relu\n",
    "\n",
    "#輸出\n",
    "classifier.add(Dense(10,activation='softmax'))\n",
    "\n",
    "#超過兩個就要選categorical_crossentrophy\n",
    "classifier.compile(optimizer = 'adam', loss = 'categorical_crossentropy', metrics = ['accuracy'])\n",
    "classifier.fit(x_train,y_train,batch_size=100,epochs=100)"
   ]
  },
  {
   "cell_type": "markdown",
   "metadata": {},
   "source": [
    "## 預測新圖片，輸入影像前處理要與訓練時相同\n",
    "#### ((X-mean)/(std+1e-7) ):這裡的mean跟std是訓練集的\n",
    "## 維度如下方示範"
   ]
  },
  {
   "cell_type": "code",
   "execution_count": 5,
   "metadata": {},
   "outputs": [
    {
     "data": {
      "text/plain": [
       "array([[  7.19557818e-07,   8.63061318e-14,   5.73313519e-05,\n",
       "          9.77964401e-01,   2.19766013e-02,   2.29512537e-11,\n",
       "          1.73284642e-09,   1.46186549e-10,   9.41228393e-07,\n",
       "          7.19521867e-19]], dtype=float32)"
      ]
     },
     "execution_count": 5,
     "metadata": {},
     "output_type": "execute_result"
    }
   ],
   "source": [
    "input_example=(np.zeros(shape=(1,32,32,3))-mean_train)/(std_train+1e-7) \n",
    "classifier.predict(input_example)"
   ]
  }
 ],
 "metadata": {
  "kernelspec": {
   "display_name": "Python 3",
   "language": "python",
   "name": "python3"
  },
  "language_info": {
   "codemirror_mode": {
    "name": "ipython",
    "version": 3
   },
   "file_extension": ".py",
   "mimetype": "text/x-python",
   "name": "python",
   "nbconvert_exporter": "python",
   "pygments_lexer": "ipython3",
   "version": "3.5.2"
  }
 },
 "nbformat": 4,
 "nbformat_minor": 2
}
